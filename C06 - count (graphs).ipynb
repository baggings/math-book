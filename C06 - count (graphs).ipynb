{
 "cells": [
  {
   "cell_type": "code",
   "execution_count": 1,
   "metadata": {},
   "outputs": [
    {
     "data": {
      "image/png": "[encoded data removed]",
      "text/plain": [
       "<matplotlib.figure.Figure at 0x19361a09ef0>"
      ]
     },
     "metadata": {},
     "output_type": "display_data"
    }
   ],
   "source": [
    "def graph_count(N):\n",
    "    return 2 ** (N * (N-1))\n",
    "\n",
    "import matplotlib.pyplot as plt\n",
    "\n",
    "points = [x / 10 for x in range(10, 41)]\n",
    "plt.figure(figsize=(10,5))\n",
    "plt.plot(points, [graph_count(x) for x in points])\n",
    "plt.grid(True)\n",
    "plt.xlabel('число вершин')\n",
    "plt.ylabel('количество графов')\n",
    "plt.show()"
   ]
  },
  {
   "cell_type": "code",
   "execution_count": 2,
   "metadata": {},
   "outputs": [
    {
     "name": "stdout",
     "output_type": "stream",
     "text": [
      "синяя борода >\n",
      "\t; белый бим чёрное ухо; гарри поттер; багровые реки; бордо\n",
      "бордо >\n",
      "\t; синяя борода; багровые реки; белый бим чёрное ухо; шоколад; сладкий ноябрь\n",
      "багровые реки >\n",
      "\t; синяя борода; гарри поттер; бордо; белый бим чёрное ухо; шоколад; сладкий ноябрь\n",
      "белый бим чёрное ухо >\n",
      "\t; багровые реки; гарри поттер; бордо; синяя борода; шоколад; сладкий ноябрь\n",
      "шоколад >\n",
      "\t; багровые реки; гарри поттер; бордо; белый бим чёрное ухо; сладкий ноябрь\n",
      "сладкий ноябрь >\n",
      "\t; багровые реки; гарри поттер; бордо; белый бим чёрное ухо; шоколад\n",
      "гарри поттер >\n",
      "\t; багровые реки; белый бим чёрное ухо; синяя борода; шоколад; сладкий ноябрь\n"
     ]
    }
   ],
   "source": [
    "# двудольный граф как модель семантической похожести текстов\n",
    "queries = [\"цвет\", \"фильм\", \"вкус\", \"книга\"]\n",
    "docs = [\"синяя борода\", \"бордо\", \"багровые реки\", \n",
    "        \"белый бим чёрное ухо\", \"шоколад\", \"сладкий ноябрь\", \"гарри поттер\"]\n",
    "# клики пользователей\n",
    "clicks = set([\n",
    "    (\"цвет\", \"синяя борода\"),\n",
    "    (\"цвет\", \"багровые реки\"),\n",
    "    (\"цвет\", \"белый бим чёрное ухо\"),\n",
    "    (\"цвет\", \"бордо\"),\n",
    "    (\"фильм\", \"багровые реки\"),\n",
    "    (\"фильм\", \"белый бим чёрное ухо\"),\n",
    "    (\"фильм\", \"шоколад\"),\n",
    "    (\"фильм\", \"сладкий ноябрь\"),\n",
    "    (\"фильм\", \"гарри поттер\"),\n",
    "    (\"вкус\", \"шоколад\"),\n",
    "    (\"вкус\", \"сладкий ноябрь\"),\n",
    "    (\"вкус\", \"бордо\"),\n",
    "    (\"книга\", \"синяя борода\"),\n",
    "    (\"книга\", \"белый бим чёрное ухо\"),\n",
    "    (\"книга\", \"гарри поттер\")\n",
    "])\n",
    "\n",
    "reversed_clicks = set([(b, a) for (a, b) in clicks])\n",
    "\n",
    "result = dict()\n",
    "for a in docs:\n",
    "    for b in queries:\n",
    "        for c in docs:\n",
    "            if a != c and (a, b) in reversed_clicks and (b, c) in clicks:\n",
    "                if a not in result: result[a] = set()\n",
    "                result[a].add(c)\n",
    "for key in result:\n",
    "    print(key, \">\")\n",
    "    print(\"\\t\", *result[key], sep=\"; \")"
   ]
  }
 ],
 "metadata": {
  "kernelspec": {
   "display_name": "Python 3",
   "language": "python",
   "name": "python3"
  },
  "language_info": {
   "codemirror_mode": {
    "name": "ipython",
    "version": 3
   },
   "file_extension": ".py",
   "mimetype": "text/x-python",
   "name": "python",
   "nbconvert_exporter": "python",
   "pygments_lexer": "ipython3",
   "version": "3.6.1"
  }
 },
 "nbformat": 4,
 "nbformat_minor": 2
}
