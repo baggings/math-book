{
 "cells": [
  {
   "cell_type": "code",
   "execution_count": 1,
   "metadata": {
    "collapsed": true
   },
   "outputs": [],
   "source": [
    "# скачаем данные о посещаемости избирательных участков\n",
    "import requests\n",
    "import xlrd\n",
    "url = (\"http://www.vybory.izbirkom.ru/servlet/ExcelReportVersion?\" + \n",
    "            \"region=0&sub_region=0&root=1&global=1&\" + \n",
    "            \"vrn=100100084849062&tvd=100100084849066&\" + \n",
    "            \"type=453&vibid=100100084849066&condition=&\" + \n",
    "            \"action=show&version=null&prver=0&sortorder=0\"\n",
    "      )\n",
    "c = requests.get(url).content\n",
    "rb = xlrd.open_workbook(file_contents=c)\n",
    "sheet = rb.sheet_by_index(0)\n",
    "data12 = [float(sheet.row_values(i)[-3][:-1]) for i in range(13, 98)]\n",
    "data18 = [float(sheet.row_values(i)[-1][:-1]) for i in range(13, 98)]"
   ]
  },
  {
   "cell_type": "code",
   "execution_count": 2,
   "metadata": {},
   "outputs": [
    {
     "data": {
      "image/png": "[encoded data removed]",
      "text/plain": [
       "<matplotlib.figure.Figure at 0x1c6e9355e10>"
      ]
     },
     "metadata": {},
     "output_type": "display_data"
    },
    {
     "name": "stdout",
     "output_type": "stream",
     "text": [
      "Значения: [  2.   6.  15.  16.  21.  11.   6.   4.   0.   4.]\n",
      "Границы: [ 16.24   19.374  22.508  25.642  28.776  31.91   35.044  38.178  41.312\n",
      "  44.446  47.58 ]\n"
     ]
    }
   ],
   "source": [
    "# построим гистограмму этих данных\n",
    "import matplotlib.pyplot as plt\n",
    "bins = 10\n",
    "h = plt.hist(data12, bins)\n",
    "plt.show()\n",
    "print(\"Значения:\", h[0])\n",
    "print(\"Границы:\", h[1])"
   ]
  },
  {
   "cell_type": "code",
   "execution_count": 6,
   "metadata": {},
   "outputs": [
    {
     "name": "stdout",
     "output_type": "stream",
     "text": [
      "(μ', σ2') = (29.65352941176471, 39.765700484429075)\n",
      "X2n = 25.0410643057\n",
      "Вероятность отклонить корректную H0: 0.29%\n"
     ]
    }
   ],
   "source": [
    "μ_ = sum(data12) / len(data12)\n",
    "σ2_ = sum( (x-μ_) ** 2 for x in data12 ) / len(data12)\n",
    "print('(μ\\', σ2\\') = ({}, {})'.format(μ_, σ2_))\n",
    "\n",
    "from scipy.stats import norm, chi2\n",
    "N = norm(μ_, σ2_ ** .5)\n",
    "χ2 = chi2(bins - 1)\n",
    "# cdf - это значения функции распределения, \n",
    "# pdf - функции плотности\n",
    "P = []\n",
    "for i in range(bins):\n",
    "    P.append(N.cdf(h[1][i+1]) - N.cdf(h[1][i]))\n",
    "\n",
    "X2n = 0.0\n",
    "for i in range(bins):\n",
    "    X2n += (h[0][i] / len(data12) - P[i]) ** 2 / P[i]\n",
    "X2n *= len(data12)\n",
    "print('X2n =', X2n)\n",
    "\n",
    "p_value = 1 - χ2.cdf(X2n)\n",
    "print(\"Вероятность отклонить корректную H0: {:.2f}%\".format(p_value * 100))\n",
    "# NB: Запомните, это абсолютно ничего не говорит о тот, что гипотеза H0 верна!!!\n",
    "# Это сложно принять"
   ]
  },
  {
   "cell_type": "code",
   "execution_count": 7,
   "metadata": {},
   "outputs": [
    {
     "data": {
      "text/plain": [
       "NormaltestResult(statistic=9.9619893694802855, pvalue=0.0068672284318312526)"
      ]
     },
     "execution_count": 7,
     "metadata": {},
     "output_type": "execute_result"
    }
   ],
   "source": [
    "# конечно же провести тест на нормальное распределение можно и гораздо проще :)\n",
    "from scipy import stats\n",
    "stats.normaltest(data12)"
   ]
  }
 ],
 "metadata": {
  "kernelspec": {
   "display_name": "Python 3",
   "language": "python",
   "name": "python3"
  },
  "language_info": {
   "codemirror_mode": {
    "name": "ipython",
    "version": 3
   },
   "file_extension": ".py",
   "mimetype": "text/x-python",
   "name": "python",
   "nbconvert_exporter": "python",
   "pygments_lexer": "ipython3",
   "version": "3.6.1"
  }
 },
 "nbformat": 4,
 "nbformat_minor": 2
}
