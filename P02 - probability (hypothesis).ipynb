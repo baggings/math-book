{
 "cells": [
  {
   "cell_type": "code",
   "execution_count": 14,
   "metadata": {},
   "outputs": [],
   "source": [
    "import requests\n",
    "import xlrd\n",
    "\n",
    "url = (\"http://www.vybory.izbirkom.ru/servlet/ExcelReportVersion?\" + \n",
    "            \"region=0&sub_region=0&root=1&global=1&\" + \n",
    "            \"vrn=100100084849062&tvd=100100084849066&\" + \n",
    "            \"type=453&vibid=100100084849066&condition=&\" + \n",
    "            \"action=show&version=null&prver=0&sortorder=0\"\n",
    "      )\n",
    "c = requests.get(url).content\n",
    "rb = xlrd.open_workbook(file_contents=c)\n",
    "sheet = rb.sheet_by_index(0)\n",
    "cells = [float(sheet.row_values(i)[-1][:-1]) for i in range(13, 98)]"
   ]
  },
  {
   "cell_type": "code",
   "execution_count": 17,
   "metadata": {},
   "outputs": [
    {
     "data": {
      "text/plain": [
       "NormaltestResult(statistic=17.603052561001395, pvalue=0.00015050318962163355)"
      ]
     },
     "execution_count": 17,
     "metadata": {},
     "output_type": "execute_result"
    }
   ],
   "source": [
    "from scipy import stats\n",
    "stats.normaltest(cells)"
   ]
  }
 ],
 "metadata": {
  "kernelspec": {
   "display_name": "Python 3",
   "language": "python",
   "name": "python3"
  },
  "language_info": {
   "codemirror_mode": {
    "name": "ipython",
    "version": 3
   },
   "file_extension": ".py",
   "mimetype": "text/x-python",
   "name": "python",
   "nbconvert_exporter": "python",
   "pygments_lexer": "ipython3",
   "version": "3.6.3"
  }
 },
 "nbformat": 4,
 "nbformat_minor": 2
}
