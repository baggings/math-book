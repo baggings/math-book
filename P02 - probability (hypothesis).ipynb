{
 "cells": [
  {
   "cell_type": "code",
   "execution_count": 1,
   "metadata": {},
   "outputs": [],
   "source": [
    "############################# Гипотеза о посещаемости избирательных участков #############################\n",
    "# H0 - данные имеют распределение, отличное от нормального, или \"между данными и распределениеи связи нет\"\n",
    "# H1 - данные имеют нормальное распределение с некоторысми неизвестными параметрами (сложная)\n",
    "##########################################################################################################\n",
    "\n",
    "import matplotlib.pyplot as plt\n",
    "import requests\n",
    "\n",
    "# установите модуль чтения Excel-файлов: pip install xlrd\n",
    "import xlrd\n",
    "import numpy as np\n",
    "from scipy import stats\n",
    "from scipy.stats import norm, chi2, expon\n",
    "from decimal import Decimal\n",
    "\n",
    "# центр-юг-Волга кроме Москвы\n",
    "center = set([\n",
    "    \"Краснодарский край\",\n",
    "    \"Ставропольский край\",\n",
    "    \"Астраханская область\",\n",
    "    \"Белгородская область\",\n",
    "    \"Брянская область\",\n",
    "    \"Владимирская область\",\n",
    "    \"Волгоградская область\",\n",
    "    \"Вологодская область\",\n",
    "    \"Воронежская область\",\n",
    "    \"Ивановская область\",\n",
    "    \"Калужская область\",\n",
    "    \"Кировская область\",\n",
    "    \"Костромская область\",\n",
    "    \"Курская область\",\n",
    "    \"Липецкая область\",\n",
    "    \"Нижегородская область\",\n",
    "    \"Новгородская область\",\n",
    "    \"Орловская область\",\n",
    "    \"Пензенская область\",\n",
    "    \"Ростовская область\",\n",
    "    \"Рязанская область\",\n",
    "    \"Самарская область\",\n",
    "    \"Саратовская область\",\n",
    "    \"Смоленская область\",\n",
    "    \"Тамбовская область\",\n",
    "    \"Тверская область\",\n",
    "    \"Тульская область\",\n",
    "    \"Ульяновская область\",\n",
    "    \"Ярославская область\"\n",
    "])"
   ]
  },
  {
   "cell_type": "code",
   "execution_count": 2,
   "metadata": {},
   "outputs": [
    {
     "name": "stdout",
     "output_type": "stream",
     "text": [
      "http://www.vybory.izbirkom.ru/servlet/ExcelReportVersion?region=0&sub_region=0&root=1&global=1&vrn=100100084849062&tvd=100100084849066&type=453&vibid=100100084849066&condition=&action=show&version=null&prver=0&sortorder=0\n"
     ]
    }
   ],
   "source": [
    "# скачаем данные о посещаемости избирательных участков\n",
    "url = (\"http://www.vybory.izbirkom.ru/servlet/ExcelReportVersion?\" + \n",
    "            \"region=0&sub_region=0&root=1&global=1&\" + \n",
    "            \"vrn=100100084849062&tvd=100100084849066&\" + \n",
    "            \"type=453&vibid=100100084849066&condition=&\" + \n",
    "            \"action=show&version=null&prver=0&sortorder=0\"\n",
    "      )\n",
    "c = requests.get(url).content\n",
    "print(url)\n",
    "\n",
    "# сохраним их в файл\n",
    "with open('data/votes.xlsx', 'wb') as f:\n",
    "    f.write(c)\n",
    "\n",
    "# откроем\n",
    "rb = xlrd.open_workbook(file_contents=c)\n",
    "sheet = rb.sheet_by_index(0)\n",
    "regions = [sheet.row_values(i)[-5] for i in range(13, 98)]\n",
    "regions_to_take = list(map(lambda r : r in center, regions))\n",
    "\n",
    "# явка к 10 часам\n",
    "data10 = [float(sheet.row_values(i)[-4][:-1]) for i, r in zip(range(13, 98), regions_to_take) if r]\n",
    "# явка к 12 часам\n",
    "data12 = [float(sheet.row_values(i)[-3][:-1]) for i, r in zip(range(13, 98), regions_to_take) if r]\n",
    "# явка к 18 часам\n",
    "data18 = [float(sheet.row_values(i)[-1][:-1]) for i, r in zip(range(13, 98), regions_to_take) if r]\n",
    "data = data12"
   ]
  },
  {
   "cell_type": "code",
   "execution_count": 3,
   "metadata": {},
   "outputs": [],
   "source": [
    "# data - данные, которые мы проверяем на соответствие гипотизе\n",
    "# H1 - гипотеза о распределении\n",
    "# bin_count - сколько столбиков в гистограмме (bin_count - 1 = число степеней свободы)\n",
    "# α - значимость, или, другими словами допустимая вероятность \n",
    "#     ошибки 1 рода - что, приняв гипотезу H1 мы отвергнем корректную H0\n",
    "def test_data(data, H1, bin_count, α = 0.1, verbose = True):\n",
    "    # разложение данных + попадёт на график\n",
    "    h = plt.hist(data, bin_count)\n",
    "    h_vals, h_borders = h[0], h[1]\n",
    "    N = len(data)\n",
    "    μ_ = sum(data) / N\n",
    "    σ2_ = sum( (x-μ_) ** 2 for x in data ) / N\n",
    "    if verbose:\n",
    "        print(\"{} значений в интервале {:.2f}-{:.2f}\".format(len(data), h_borders[0], h_borders[-1]))\n",
    "        print('(μ\\', σ2\\') = ({:.3f}, {:.3f})'.format(μ_, σ2_))\n",
    "    \n",
    "    χ2 = chi2(bin_count - 1)\n",
    "    if verbose:\n",
    "        print(\"Для проверки гипотезы используется распределение χ2 c {} степенями свободы\".format(bin_count - 1))\n",
    "    \n",
    "    # критическое значение вычисляется путём применения функции, обратной функции распределения\n",
    "    # такая функция есть, потому что функция распределения χ2 строго возрастающая\n",
    "    χ2α = χ2.ppf(α)\n",
    "    if verbose:\n",
    "        print(\"Критическое значение для α={} и {} степеней свободы равно {:.2f}\".format(\n",
    "            α, bin_count - 1, χ2α\n",
    "        ))\n",
    "\n",
    "    P = []\n",
    "    for i in range(bin_count):\n",
    "        P.append(H1.cdf(h_borders[i+1]) - H1.cdf(h_borders[i]))\n",
    "\n",
    "    P_ = [p * N for p in P]\n",
    "    step = h_borders[1] - h_borders[0]\n",
    "    if verbose:\n",
    "        plt.plot([x + step/2 for x in h_borders[:-1]], P_)\n",
    "        plt.show()\n",
    "    χ2n = Decimal(0.0)\n",
    "    for i in range(bin_count):\n",
    "        # !!! Важно !!! при малых значениях P[i] возможно деление на машинный ноль\n",
    "        # обработаем как-нибудь эту ситуацию\n",
    "        if P[i] == 0.0:\n",
    "            continue\n",
    "        χ2n += Decimal(h_vals[i] / N - P[i]) ** 2 / Decimal(P[i])\n",
    "    χ2n *= Decimal(N)\n",
    "    if verbose:\n",
    "        print('χ2n = {:.3f}'.format(χ2n))\n",
    "    χ2n = float(χ2n)\n",
    "    \n",
    "    p_value = 1 - χ2.cdf(χ2n)\n",
    "    if verbose:\n",
    "        print(\"Вероятность, что если H0 (гипотеза, что связи между данными и распределением нет) верна,\")\n",
    "        print(\"то величина ошибки больше либо равна полученному χ2n: p-value = {:.2f}%.\".format(p_value * 100))\n",
    "        print(\"Чем больше эта вероятность, тем лучше для альтернативной гипотезы H1,\")\n",
    "        print(\"однако, если эта величина близка к 1, данные можно заподозрить в фальсификации.\")\n",
    "    return (χ2n, p_value, bin_count, α, H1)\n",
    "    # NB: Запомните, это абсолютно ничего не говорит о тот, что гипотеза H0 верна!!!\n",
    "    # Да, это сложно принять :)"
   ]
  },
  {
   "cell_type": "code",
   "execution_count": 4,
   "metadata": {},
   "outputs": [
    {
     "name": "stdout",
     "output_type": "stream",
     "text": [
      "29 значений в интервале 20.44-34.14\n",
      "(μ', σ2') = (27.772, 11.073)\n",
      "Для проверки гипотезы используется распределение χ2 c 4 степенями свободы\n",
      "Критическое значение для α=0.2 и 4 степеней свободы равно 1.65\n"
     ]
    },
    {
     "data": {
      "image/png": "[encoded data removed]",
      "text/plain": [
       "<Figure size 432x288 with 1 Axes>"
      ]
     },
     "metadata": {},
     "output_type": "display_data"
    },
    {
     "name": "stdout",
     "output_type": "stream",
     "text": [
      "χ2n = 1.393\n",
      "Вероятность, что если H0 (гипотеза, что связи между данными и распределением нет) верна,\n",
      "то величина ошибки больше либо равна полученному χ2n: p-value = 84.55%.\n",
      "Чем больше эта вероятность, тем лучше для альтернативной гипотезы H1,\n",
      "однако, если эта величина близка к 1, данные можно заподозрить в фальсификации.\n"
     ]
    }
   ],
   "source": [
    "N = len(data)\n",
    "μ_ = sum(data) / N\n",
    "σ2_ = sum( (x-μ_) ** 2 for x in data ) / N\n",
    "\n",
    "H1 = norm(μ_, σ2_ ** .5)\n",
    "_ = test_data(data, H1, 5, 0.20)"
   ]
  },
  {
   "cell_type": "code",
   "execution_count": 5,
   "metadata": {},
   "outputs": [
    {
     "data": {
      "text/plain": [
       "NormaltestResult(statistic=0.2096711124947861, pvalue=0.9004725875031654)"
      ]
     },
     "execution_count": 5,
     "metadata": {},
     "output_type": "execute_result"
    }
   ],
   "source": [
    "# конечно же провести тест на нормальное распределение можно и гораздо проще :)\n",
    "# это немного другой тест D'Agostino-Pearson Test:\n",
    "stats.normaltest(data)"
   ]
  },
  {
   "cell_type": "code",
   "execution_count": 6,
   "metadata": {},
   "outputs": [],
   "source": [
    "####################### Гипотеза о времени ответов сервиса #######################################"
   ]
  },
  {
   "cell_type": "code",
   "execution_count": 7,
   "metadata": {},
   "outputs": [
    {
     "name": "stdout",
     "output_type": "stream",
     "text": [
      "Min = 119.0, Max = 129.0\n"
     ]
    },
    {
     "data": {
      "image/png": "[encoded data removed]",
      "text/plain": [
       "<Figure size 432x288 with 1 Axes>"
      ]
     },
     "metadata": {},
     "output_type": "display_data"
    }
   ],
   "source": [
    "with open('data/times.log', 'r') as f:\n",
    "    # убираем сервисные строчки, приводим к числу и берём первые 100\n",
    "    data = [float(v) for v in f.readlines()[1:-4]][:100]\n",
    "    \n",
    "print(\"Min = {}, Max = {}\".format(min(data), max(data)))\n",
    "# В отличие от предыдущего пример, здесь с числом корзин нужно быть осторожным\n",
    "# Измерения времени дискретные, поэтому нужно сделать так, чтобы они не \"слипались\"\n",
    "bins = 6\n",
    "h = plt.hist(data, bins)\n",
    "plt.show()"
   ]
  },
  {
   "cell_type": "code",
   "execution_count": 8,
   "metadata": {},
   "outputs": [
    {
     "name": "stdout",
     "output_type": "stream",
     "text": [
      "100 значений в интервале 119.00-129.00\n",
      "(μ', σ2') = (121.210, 4.366)\n",
      "Для проверки гипотезы используется распределение χ2 c 5 степенями свободы\n",
      "Критическое значение для α=0.2 и 5 степеней свободы равно 2.34\n"
     ]
    },
    {
     "data": {
      "image/png": "[encoded data removed]",
      "text/plain": [
       "<Figure size 432x288 with 1 Axes>"
      ]
     },
     "metadata": {},
     "output_type": "display_data"
    },
    {
     "name": "stdout",
     "output_type": "stream",
     "text": [
      "χ2n = 37.647\n",
      "Вероятность, что если H0 (гипотеза, что связи между данными и распределением нет) верна,\n",
      "то величина ошибки больше либо равна полученному χ2n: p-value = 0.00%.\n",
      "Чем больше эта вероятность, тем лучше для альтернативной гипотезы H1,\n",
      "однако, если эта величина близка к 1, данные можно заподозрить в фальсификации.\n"
     ]
    },
    {
     "data": {
      "text/plain": [
       "NormaltestResult(statistic=22.320874453814103, pvalue=1.4226029230845182e-05)"
      ]
     },
     "execution_count": 8,
     "metadata": {},
     "output_type": "execute_result"
    }
   ],
   "source": [
    "# проверка на нормальность!\n",
    "\n",
    "N = len(data)\n",
    "μ_ = sum(data) / N\n",
    "σ2_ = sum( (x-μ_) ** 2 for x in data ) / N\n",
    "\n",
    "H1 = norm(μ_, σ2_ ** .5)\n",
    "test_data(data, H1, bins, 0.2)\n",
    "\n",
    "# или так тоже можно.\n",
    "stats.normaltest(data)\n",
    "\n",
    "# как видно, по обоим тестам гипотеза провалилась - p-value около 0."
   ]
  },
  {
   "cell_type": "code",
   "execution_count": 9,
   "metadata": {},
   "outputs": [
    {
     "data": {
      "image/png": "[encoded data removed]",
      "text/plain": [
       "<Figure size 432x288 with 1 Axes>"
      ]
     },
     "metadata": {},
     "output_type": "display_data"
    }
   ],
   "source": [
    "# а может экспоненциальное?\n",
    "results = []\n",
    "# сделаем Grid Search - поиск по сетке параметров.\n",
    "# параметры экспоненциального распределения - смещение и крутизна\n",
    "for d in [x / 10. for x in range(-10, 10)]:\n",
    "    for λ in [x / 100. for x in range(25, 50)]:\n",
    "        loc = d + min(data) # смещение\n",
    "        H1 = expon(scale=1./λ, loc=loc)\n",
    "        r = test_data(data, H1, bins, 0.2, verbose=False)\n",
    "        results.append((*r, d, λ))"
   ]
  },
  {
   "cell_type": "code",
   "execution_count": 10,
   "metadata": {},
   "outputs": [
    {
     "name": "stdout",
     "output_type": "stream",
     "text": [
      "d = 119.0 + (0.0); λ = 0.4\n",
      "100 значений в интервале 119.00-129.00\n",
      "(μ', σ2') = (121.210, 4.366)\n",
      "Для проверки гипотезы используется распределение χ2 c 5 степенями свободы\n",
      "Критическое значение для α=0.05 и 5 степеней свободы равно 1.15\n"
     ]
    },
    {
     "data": {
      "image/png": "[encoded data removed]",
      "text/plain": [
       "<Figure size 432x288 with 1 Axes>"
      ]
     },
     "metadata": {},
     "output_type": "display_data"
    },
    {
     "name": "stdout",
     "output_type": "stream",
     "text": [
      "χ2n = 0.819\n",
      "Вероятность, что если H0 (гипотеза, что связи между данными и распределением нет) верна,\n",
      "то величина ошибки больше либо равна полученному χ2n: p-value = 97.58%.\n",
      "Чем больше эта вероятность, тем лучше для альтернативной гипотезы H1,\n",
      "однако, если эта величина близка к 1, данные можно заподозрить в фальсификации.\n"
     ]
    }
   ],
   "source": [
    "best = sorted(results)[0]\n",
    "H, d, λ = best[-3], best[-2], best[-1]\n",
    "print(\"d = {} + ({}); λ = {}\".format(min(data), d, λ))\n",
    "_ = test_data(data, H, bins, 0.05)"
   ]
  },
  {
   "cell_type": "code",
   "execution_count": 11,
   "metadata": {},
   "outputs": [
    {
     "name": "stdout",
     "output_type": "stream",
     "text": [
      "100 значений в интервале 119.00-129.00\n",
      "(μ', σ2') = (121.210, 4.366)\n",
      "Для проверки гипотезы используется распределение χ2 c 5 степенями свободы\n",
      "Критическое значение для α=0.05 и 5 степеней свободы равно 1.15\n"
     ]
    },
    {
     "data": {
      "image/png": "[encoded data removed]",
      "text/plain": [
       "<Figure size 432x288 with 1 Axes>"
      ]
     },
     "metadata": {},
     "output_type": "display_data"
    },
    {
     "name": "stdout",
     "output_type": "stream",
     "text": [
      "χ2n = 0.819\n",
      "Вероятность, что если H0 (гипотеза, что связи между данными и распределением нет) верна,\n",
      "то величина ошибки больше либо равна полученному χ2n: p-value = 97.58%.\n",
      "Чем больше эта вероятность, тем лучше для альтернативной гипотезы H1,\n",
      "однако, если эта величина близка к 1, данные можно заподозрить в фальсификации.\n"
     ]
    }
   ],
   "source": [
    "# экспоненциально распределение лишь частный случай хи-квадрат expon = chi2(k=2)\n",
    "# попробуем его\n",
    "λ = 0.4 * 2\n",
    "H1 = chi2(2, loc=min(data), scale=1./λ)\n",
    "_ = test_data(data, H1, bins, 0.05)"
   ]
  }
 ],
 "metadata": {
  "kernelspec": {
   "display_name": "Python 3",
   "language": "python",
   "name": "python3"
  },
  "language_info": {
   "codemirror_mode": {
    "name": "ipython",
    "version": 3
   },
   "file_extension": ".py",
   "mimetype": "text/x-python",
   "name": "python",
   "nbconvert_exporter": "python",
   "pygments_lexer": "ipython3",
   "version": "3.6.5"
  }
 },
 "nbformat": 4,
 "nbformat_minor": 2
}
