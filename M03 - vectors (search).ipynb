{
 "cells": [
  {
   "cell_type": "code",
   "execution_count": 1,
   "metadata": {
    "collapsed": true
   },
   "outputs": [],
   "source": [
    "import re, math, urllib.request as req, numpy as np\n",
    "from functools import reduce\n",
    "import nltk.stem.snowball, bs4, collections\n",
    "from scipy.spatial.distance import cosine"
   ]
  },
  {
   "cell_type": "code",
   "execution_count": 2,
   "metadata": {
    "collapsed": true
   },
   "outputs": [],
   "source": [
    "bookNames = [\"Война и Мир 1\", \"Война и Мир 2\", \"Про войну\", \"Про Мышу\"]\n",
    "bookUrls = {\n",
    "    \"http://vojnaimir.ru/files/book1.txt\" : \"windows-1251\",\n",
    "    \"http://vojnaimir.ru/files/book2.txt\" : \"windows-1251\",\n",
    "    \"http://www.rastamantales.com/skazki/content/pro-voynu\": \"utf-8\",\n",
    "    \"http://www.rastamantales.com/skazki/content/skazka-pro-myshu\": \"utf-8\"}\n",
    "\n",
    "def getBook(url, enc):\n",
    "    return bs4.BeautifulSoup(req.urlopen(url).read().decode(enc), \"lxml\").text\n",
    "\n",
    "books = [getBook(*u) for u in bookUrls.items()]"
   ]
  },
  {
   "cell_type": "code",
   "execution_count": 3,
   "metadata": {
    "collapsed": true
   },
   "outputs": [],
   "source": [
    "# возьмём из каждого текста только слова\n",
    "# длина которых больше 2 символов, и оставим от них только основы\n",
    "def textToWords(text):\n",
    "    stemmer = nltk.stem.snowball.RussianStemmer()\n",
    "    return [stemmer.stem(word) for word in re.split('\\W+', text) if len(word) > 2]\n",
    "    \n",
    "# тексты, разбитые на слова\n",
    "bookWords = [textToWords(book) for book in books]\n",
    "# все известные нам слова\n",
    "lexiconSet = reduce(lambda s, all: all | s, map(set, bookWords), set())"
   ]
  },
  {
   "cell_type": "code",
   "execution_count": 4,
   "metadata": {
    "collapsed": true
   },
   "outputs": [],
   "source": [
    "lexicon = list(lexiconSet)\n",
    "inBooksMet = [0] * len(lexicon)\n",
    "\n",
    "def vectorize(bookW, lexicon, inBooksMet=None):\n",
    "    stats = collections.Counter()\n",
    "    for word in bookW:\n",
    "        stats[word] += 1\n",
    "    vector = [0] * len(lexicon)\n",
    "    \n",
    "    for j in range(len(lexicon)):\n",
    "        vector[j] = stats[lexicon[j]]\n",
    "        if inBooksMet is not None and vector[j]:\n",
    "            inBooksMet[j] += 1\n",
    "    return np.array(vector)\n",
    "\n",
    "vectorBooks = []\n",
    "for book in bookWords:\n",
    "    vector = vectorize(book, lexicon, inBooksMet)\n",
    "    vectorBooks.append(vector)"
   ]
  },
  {
   "cell_type": "code",
   "execution_count": 5,
   "metadata": {
    "collapsed": true
   },
   "outputs": [],
   "source": [
    "N = len(books)\n",
    "\n",
    "def norm(wordCount, inBooksMet, Nbooks):\n",
    "    # первый множитель сглаживает влияние числа слов\n",
    "    # второй множитель уменьшает влияние маловажных слов, которые есть во всех текстах\n",
    "    return math.log(1 + wordCount, 2) * math.log(Nbooks / inBooksMet, 2)\n",
    "\n",
    "def normVector(vector):\n",
    "    return list(map(lambda v: norm(*v, N), zip(vector, inBooksMet)))\n",
    "\n",
    "vectors = [np.array(normVector(vect)) for vect in vectorBooks]"
   ]
  },
  {
   "cell_type": "code",
   "execution_count": 6,
   "metadata": {
    "collapsed": true
   },
   "outputs": [],
   "source": [
    "cosDistances = np.matrix([0.]*N*N).reshape(N,N)\n",
    "\n",
    "def cosine(a, b):\n",
    "    return np.dot(a, b) / (np.linalg.norm(a) * np.linalg.norm(b))\n",
    "\n",
    "for i in range(len(vectors)):\n",
    "    for j in range(len(vectors)):\n",
    "        cosDistances[i,j] = cosine(vectors[i], vectors[j])"
   ]
  },
  {
   "cell_type": "code",
   "execution_count": 7,
   "metadata": {},
   "outputs": [
    {
     "name": "stdout",
     "output_type": "stream",
     "text": [
      "[[ 1.          0.550479    0.01601007  0.01725074]\n",
      " [ 0.550479    1.          0.01856861  0.01660717]\n",
      " [ 0.01601007  0.01856861  1.          0.35835123]\n",
      " [ 0.01725074  0.01660717  0.35835123  1.        ]]\n"
     ]
    }
   ],
   "source": [
    "print(cosDistances)"
   ]
  },
  {
   "cell_type": "code",
   "execution_count": 8,
   "metadata": {},
   "outputs": [
    {
     "name": "stdout",
     "output_type": "stream",
     "text": [
      "Ищем: Пьер Безухов и Наташа Ростова\n",
      "(0.048983574415158146, 'Война и Мир 1')\n",
      "(0.042743471630742193, 'Война и Мир 2')\n",
      "(0.0, 'Про войну')\n",
      "(0.0, 'Про Мышу')\n"
     ]
    }
   ],
   "source": [
    "def search(query):\n",
    "    print(\"Ищем:\", query)\n",
    "    vect = vectorize(textToWords(query), lexicon)\n",
    "    return sorted([(cosine(book[0], vect), book[1]) for book in zip(vectors, bookNames)], reverse=True)\n",
    "\n",
    "print(*search(\"Пьер Безухов и Наташа Ростова\"), sep=\"\\n\")"
   ]
  }
 ],
 "metadata": {
  "kernelspec": {
   "display_name": "Python 3",
   "language": "python",
   "name": "python3"
  },
  "language_info": {
   "codemirror_mode": {
    "name": "ipython",
    "version": 3
   },
   "file_extension": ".py",
   "mimetype": "text/x-python",
   "name": "python",
   "nbconvert_exporter": "python",
   "pygments_lexer": "ipython3",
   "version": "3.6.1"
  }
 },
 "nbformat": 4,
 "nbformat_minor": 2
}
