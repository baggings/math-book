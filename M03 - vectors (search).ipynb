{
 "cells": [
  {
   "cell_type": "code",
   "execution_count": 1,
   "metadata": {},
   "outputs": [],
   "source": [
    "import re, math, urllib.request as req, numpy as np\n",
    "from functools import reduce\n",
    "import nltk.stem.snowball, bs4, collections\n",
    "from scipy.spatial.distance import cosine"
   ]
  },
  {
   "cell_type": "code",
   "execution_count": 2,
   "metadata": {},
   "outputs": [],
   "source": [
    "bookNames = [\"Война и Мир 1\", \"Война и Мир 2\", \"Война и Мир 3\", \"Война и Мир 4\", \"Про войну\", \"Про Мышу\"]\n",
    "bookUrls = {\n",
    "    \"https://rvb.ru/tolstoy/01text/vol_4/0030_1.htm\" : \"windows-1251\",\n",
    "    \"https://rvb.ru/tolstoy/01text/vol_5/0030_2.htm\" : \"windows-1251\",\n",
    "    \"https://rvb.ru/tolstoy/01text/vol_6/0030_3.htm\" : \"windows-1251\",\n",
    "    \"https://rvb.ru/tolstoy/01text/vol_7/0030_4.htm\" : \"windows-1251\",\n",
    "    \"http://www.rastamantales.com/skazki/content/pro-voynu\": \"utf-8\",\n",
    "    \"http://www.rastamantales.com/skazki/content/skazka-pro-myshu\": \"utf-8\"}\n",
    "\n",
    "# скачаем книжки\n",
    "def getBook(url, enc):\n",
    "    head = re.compile(r'<head.*?/head>')\n",
    "    scripts = re.compile(r'<script.*?</script>')\n",
    "    css = re.compile(r'<style.*?/style>')\n",
    "    t = req.urlopen(url).read().decode(enc)\n",
    "    t = head.sub('', t)\n",
    "    t = scripts.sub('', t)\n",
    "    t = css.sub('', t)\n",
    "    # remove [...] {...} (...)\n",
    "    t = re.sub('\\[.*\\]', '', t)\n",
    "    t = re.sub('\\(.*\\)', '', t)\n",
    "    t = re.sub('\\{.*\\}', '', t)\n",
    "    return bs4.BeautifulSoup(t, \"lxml\").text\n",
    "\n",
    "books = [getBook(*u) for u in bookUrls.items()]"
   ]
  },
  {
   "cell_type": "code",
   "execution_count": 3,
   "metadata": {},
   "outputs": [
    {
     "name": "stdout",
     "output_type": "stream",
     "text": [
      "Размер лексикона: 13537\n"
     ]
    }
   ],
   "source": [
    "# возьмём из каждого текста только слова\n",
    "# длина которых больше 2 символов, и оставим от них только основы\n",
    "def textToWords(text):\n",
    "    stemmer = nltk.stem.snowball.RussianStemmer()\n",
    "    return [stemmer.stem(word) for word in re.split('\\W+', text) if len(word) > 2]\n",
    "    \n",
    "# тексты, разбитые на слова\n",
    "bookWords = [textToWords(book) for book in books]\n",
    "# все известные нам слова положим в множество, оно называется лексиконом.\n",
    "lexiconSet = reduce(lambda s, all: all | s, map(set, bookWords), set())\n",
    "\n",
    "print(\"Размер лексикона:\", len(lexiconSet))"
   ]
  },
  {
   "cell_type": "code",
   "execution_count": 4,
   "metadata": {},
   "outputs": [],
   "source": [
    "lexicon = list(lexiconSet)\n",
    "# заведём вектор, в котором будет подсчитывать появления слов в текстах - term frequency\n",
    "TF = [0] * len(lexicon)\n",
    "\n",
    "def vectorize(bookW, lexicon, TF=None):\n",
    "    stats = collections.Counter()\n",
    "    for word in bookW:\n",
    "        stats[word] += 1\n",
    "    vector = [0] * len(lexicon)\n",
    "    \n",
    "    for j in range(len(lexicon)):\n",
    "        vector[j] = stats[lexicon[j]]\n",
    "        if TF is not None and vector[j]:\n",
    "            TF[j] += 1\n",
    "    return np.array(vector)\n",
    "\n",
    "vectorBooks = []\n",
    "for book in bookWords:\n",
    "    vector = vectorize(book, lexicon, TF)\n",
    "    vectorBooks.append(vector)"
   ]
  },
  {
   "cell_type": "code",
   "execution_count": 5,
   "metadata": {},
   "outputs": [],
   "source": [
    "def norm(wordCount, tf, Nbooks):\n",
    "    # первый множитель сглаживает влияние числа слов\n",
    "    # второй множитель уменьшает влияние маловажных слов, которые есть во всех текстах\n",
    "    return math.log(1 + wordCount, 2) * math.log(Nbooks / tf, 2)\n",
    "\n",
    "def normVector(vector, TF):\n",
    "    return list(map(lambda v: norm(*v, len(books)), zip(vector, TF)))\n",
    "\n",
    "# https://ru.wikipedia.org/wiki/Терм-документная_матрица\n",
    "TDindex = [np.array(normVector(vect, TF)) for vect in vectorBooks]"
   ]
  },
  {
   "cell_type": "code",
   "execution_count": 6,
   "metadata": {},
   "outputs": [],
   "source": [
    "cosDistances = np.matrix([0.]*(len(books) ** 2)).reshape(len(books),len(books))\n",
    "\n",
    "def cosine(a, b):\n",
    "    return np.dot(a, b) / (np.linalg.norm(a) * np.linalg.norm(b))\n",
    "\n",
    "for i in range(len(TDindex)):\n",
    "    for j in range(len(TDindex)):\n",
    "        cosDistances[i,j] = cosine(TDindex[i], TDindex[j])"
   ]
  },
  {
   "cell_type": "code",
   "execution_count": 7,
   "metadata": {},
   "outputs": [
    {
     "name": "stdout",
     "output_type": "stream",
     "text": [
      "[[1.         0.36806658 0.35448181 0.32650929 0.00759717 0.00839773]\n",
      " [0.36806658 1.         0.35396584 0.31296691 0.01204977 0.01470012]\n",
      " [0.35448181 0.35396584 1.         0.34184257 0.00615333 0.00595274]\n",
      " [0.32650929 0.31296691 0.34184257 1.         0.00831747 0.00797465]\n",
      " [0.00759717 0.01204977 0.00615333 0.00831747 1.         0.21945127]\n",
      " [0.00839773 0.01470012 0.00595274 0.00797465 0.21945127 1.        ]]\n"
     ]
    }
   ],
   "source": [
    "print(cosDistances)"
   ]
  },
  {
   "cell_type": "code",
   "execution_count": 8,
   "metadata": {},
   "outputs": [
    {
     "name": "stdout",
     "output_type": "stream",
     "text": [
      "\n",
      "Ищем: Пьер Безухов и Наташа Ростова на балу\n",
      "Запрос: ['пьер', 'безух', 'наташ', 'ростов', 'бал']\n",
      "Норма вектора запроса до TF-IDF: 1.7320508075688772\n",
      "Норма вектора запроса после: 4.477286386909343\n",
      "(0.046264872359523534, 'Война и Мир 2')\n",
      "(0.009547777769805116, 'Война и Мир 4')\n",
      "(0.0, 'Про войну')\n",
      "(0.0, 'Про Мышу')\n",
      "(0.0, 'Война и Мир 3')\n",
      "(0.0, 'Война и Мир 1')\n",
      "\n",
      "Ищем: кони красноглазые\n",
      "Запрос: ['кон', 'красноглаз']\n",
      "Норма вектора запроса до TF-IDF: 1.4142135623730951\n",
      "Норма вектора запроса после: 3.6556890267457303\n",
      "(0.05352463283193378, 'Про Мышу')\n",
      "(0.0, 'Про войну')\n",
      "(0.0, 'Война и Мир 4')\n",
      "(0.0, 'Война и Мир 3')\n",
      "(0.0, 'Война и Мир 2')\n",
      "(0.0, 'Война и Мир 1')\n"
     ]
    }
   ],
   "source": [
    "def search(query):\n",
    "    print(\"\\nИщем:\", query)\n",
    "    prepared = textToWords(query)\n",
    "    print(\"Запрос:\", prepared)\n",
    "    vect = vectorize(prepared, lexicon)\n",
    "    print(\"Норма вектора запроса до TF-IDF:\", np.linalg.norm(vect))\n",
    "    vectN = normVector(vect, TF)\n",
    "    print(\"Норма вектора запроса после:\", np.linalg.norm(vectN))\n",
    "    return sorted([(cosine(book[0], vectN), book[1]) for book in zip(TDindex, bookNames)], reverse=True)\n",
    "\n",
    "print(*search(\"Пьер Безухов и Наташа Ростова на балу\"), sep=\"\\n\")\n",
    "print(*search(\"кони красноглазые\"), sep=\"\\n\")"
   ]
  },
  {
   "cell_type": "code",
   "execution_count": 10,
   "metadata": {},
   "outputs": [
    {
     "data": {
      "image/png": "[encoded data removed]",
      "text/plain": [
       "<Figure size 432x288 with 1 Axes>"
      ]
     },
     "metadata": {},
     "output_type": "display_data"
    }
   ],
   "source": [
    "import matplotlib.pyplot as plt\n",
    "# метод главных компонент - один из способов снижения размерности\n",
    "# метод не конкретизирует, как выделять главные компоненты, но один из возможных способов - \n",
    "# сингулярное разложение матрицы (SVD), в нашем случае - терм-документной\n",
    "from sklearn.decomposition import PCA\n",
    "\n",
    "dimensions = 2\n",
    "# Уменьшение размерности многомерных семантических векторов\n",
    "# называют латентно-семантическим анализом\n",
    "# https://ru.wikipedia.org/wiki/Латентно-семантический_анализ\n",
    "model = PCA(n_components=dimensions).fit(TDindex) # в этом методе мы построили SVD\n",
    "X_reduced = model.transform(TDindex)              # а здесь мы уже применили его к данным и получили уменьшенные векторы\n",
    "X_reduced = np.array(X_reduced)\n",
    "\n",
    "plt.scatter(X_reduced[:,0], X_reduced[:,1])\n",
    "\n",
    "for i in range(6):\n",
    "    xy = (10, -5) if i != 4 else (5, -15)\n",
    "    plt.annotate(bookNames[i], xy=X_reduced[i,:], xytext=xy, textcoords='offset points')\n",
    "plt.show()"
   ]
  }
 ],
 "metadata": {
  "kernelspec": {
   "display_name": "Python 3",
   "language": "python",
   "name": "python3"
  },
  "language_info": {
   "codemirror_mode": {
    "name": "ipython",
    "version": 3
   },
   "file_extension": ".py",
   "mimetype": "text/x-python",
   "name": "python",
   "nbconvert_exporter": "python",
   "pygments_lexer": "ipython3",
   "version": "3.6.5"
  }
 },
 "nbformat": 4,
 "nbformat_minor": 2
}
