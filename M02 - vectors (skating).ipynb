{
 "cells": [
  {
   "cell_type": "code",
   "execution_count": 1,
   "metadata": {},
   "outputs": [
    {
     "name": "stdout",
     "output_type": "stream",
     "text": [
      "Всего катков 1398\n"
     ]
    }
   ],
   "source": [
    "# зависимости\n",
    "import urllib.request as req, json, numpy as np \n",
    "# источник\n",
    "apikey = \"... ваш ключ ...\"  # получите на https://apidata.mos.ru/Account/Login\n",
    "req_template = \"https://apidata.mos.ru/v1/{}/?api_key={}\"\n",
    "# сырые данные об открытых катках в Москве с data.mos.ru\n",
    "rinks = [row[\"Cells\"] for row in json.loads(req.urlopen(req_template.format(\"datasets/1231/rows\", apikey)).read())]\n",
    "print(\"Всего катков\", len(rinks))"
   ]
  },
  {
   "cell_type": "code",
   "execution_count": 2,
   "metadata": {
    "collapsed": true
   },
   "outputs": [],
   "source": [
    "# в пространстве широта-долгота\n",
    "latlon =  np.array([r[\"geoData\"][\"coordinates\"] for r in rinks])\n",
    "# в пространстве wifi-туалет-бесплатно\n",
    "convenience = [(int(r[\"HasWifi\"] != 'нет'), int(r[\"HasToilet\"] != 'нет'), int(r[\"Paid\"] == 'бесплатно')) for r in rinks]"
   ]
  },
  {
   "cell_type": "code",
   "execution_count": 3,
   "metadata": {
    "collapsed": true
   },
   "outputs": [],
   "source": [
    "# выбираем топ значений, наиболее близких к эталону по метрике Евклидова расстояния\n",
    "def topN(expected, data, N):\n",
    "    norms = list(map(lambda row, number: (np.linalg.norm(row - expected), number), \n",
    "            data, range(len(data)) ))      # пары (расстояние, индекс)\n",
    "    norms.sort(key=lambda r: r[0])         # рейтинг\n",
    "    # множество индексов\n",
    "    return set(map(lambda r: r[1], norms[:N]))"
   ]
  },
  {
   "cell_type": "code",
   "execution_count": 10,
   "metadata": {},
   "outputs": [
    {
     "name": "stdout",
     "output_type": "stream",
     "text": [
      "Мы рассматриваем 15 ближайших и удобных катков. Самое крутое:\n",
      "улица Сокольнический Вал, дом 1, строение 1 ; Wifi: да ; WC: да ; Цена: бесплатно\n"
     ]
    }
   ],
   "source": [
    "me_geo = np.array([37.676289, 55.772266])  # широта, долгота\n",
    "me_conv = np.array([1.0, 1.0, 1.0])        # хочу всё: wifi, туалет и чтобы бесплатно!\n",
    "\n",
    "depth = 1\n",
    "A, B = set(), set()\n",
    "# пока в пересечении ничего нет - расширяем поиск\n",
    "while not A & B: \n",
    "    A = topN(me_geo, latlon, depth)\n",
    "    B = topN(me_conv, convenience, depth)\n",
    "    depth += 1\n",
    "    \n",
    "print(\"Мы рассматриваем\", depth, \"ближайших и удобных катков. Самое крутое:\")\n",
    "for rink in A & B:\n",
    "    row = rinks[rink]\n",
    "    print(row[\"Address\"],\"; Wifi:\", row[\"HasWifi\"],\"; WC:\", row[\"HasToilet\"],\"; Цена:\", row[\"Paid\"])"
   ]
  },
  {
   "cell_type": "code",
   "execution_count": 14,
   "metadata": {},
   "outputs": [
    {
     "data": {
      "image/png": "[encoded data removed]",
      "text/plain": [
       "<matplotlib.figure.Figure at 0x24df0efd3c8>"
      ]
     },
     "metadata": {},
     "output_type": "display_data"
    }
   ],
   "source": [
    "import matplotlib.pyplot as plt\n",
    "closest = np.array([latlon[i] for i in A])\n",
    "result = np.array([latlon[i] for i in A & B])\n",
    "plt.plot(closest[:,0], closest[:,1], 'bo', markersize=5)\n",
    "plt.plot(result[:,0], result[:,1], 'bo', markersize=10, color=\"green\")\n",
    "plt.plot(*me_geo, 'b*', markersize=15, color=\"red\")\n",
    "plt.annotate(\"дом\", xy=me_geo, xytext=(-10, -15), textcoords='offset points')\n",
    "plt.annotate(\"каток!\", xy=result[0], xytext=(-10, -15), textcoords='offset points')\n",
    "plt.grid(True)\n",
    "plt.xlabel('долгота')\n",
    "plt.ylabel('широта')\n",
    "plt.show()"
   ]
  }
 ],
 "metadata": {
  "kernelspec": {
   "display_name": "Python 3",
   "language": "python",
   "name": "python3"
  },
  "language_info": {
   "codemirror_mode": {
    "name": "ipython",
    "version": 3
   },
   "file_extension": ".py",
   "mimetype": "text/x-python",
   "name": "python",
   "nbconvert_exporter": "python",
   "pygments_lexer": "ipython3",
   "version": "3.6.1"
  }
 },
 "nbformat": 4,
 "nbformat_minor": 2
}
