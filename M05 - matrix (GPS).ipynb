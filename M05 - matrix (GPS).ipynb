{
 "cells": [
  {
   "cell_type": "code",
   "execution_count": 1,
   "metadata": {
    "collapsed": true
   },
   "outputs": [],
   "source": [
    "import numpy, math"
   ]
  },
  {
   "cell_type": "code",
   "execution_count": 3,
   "metadata": {},
   "outputs": [
    {
     "name": "stdout",
     "output_type": "stream",
     "text": [
      "Через секунду мы будем в 17.05 метрах от въезда на скорости 61.56 км/ч\n",
      "При неизменном ускорении через минуту мы будем в 1200.00 метрах от въезда на скорости 82.80 км/ч\n",
      "При переменном ускорении через минуту мы будем в 1184.09 метрах от въезда на скорости 80.88 км/ч\n"
     ]
    }
   ],
   "source": [
    "# все единицы измерения должны быть согласованы, например, метры и секунды\n",
    "# едем от начала туннеля со скоростью 61.2 км/ч и ускорением 0.1 м/c^2\n",
    "speed, velocity, acceleration = 0., 17., 0.1\n",
    "x = numpy.matrix([[speed], [velocity], [acceleration]])\n",
    "\n",
    "Evolution = numpy.matrix([[1.0, 1.0, 0.5],\n",
    "                          [0.0, 1.0, 1.0],\n",
    "                          [0.0, 0.0, 1.0]])\n",
    "# через секунду мы будем здесь\n",
    "y = Evolution * x\n",
    "print(\"Через секунду мы будем в {0:.2f} метрах от въезда на скорости {1:.2f} км/ч\"\n",
    "      .format(y.item(0), y.item(1) * 3.6))\n",
    "\n",
    "# если ускорение не меняется\n",
    "y = (Evolution ** 60) * x\n",
    "print(\"При неизменном ускорении через минуту мы будем в {0:.2f} метрах от въезда на скорости {1:.2f} км/ч\"\n",
    "      .format(y.item(0), y.item(1) * 3.6))\n",
    "\n",
    "# если же ускорение менялось управляющим воздействием\n",
    "def controlEffect(i):\n",
    "    return numpy.matrix([[0.], [0.], [-0.01 * math.sin(i)]])\n",
    "\n",
    "y_c = x\n",
    "for i in range(60):\n",
    "    y_c = Evolution * y_c + controlEffect(i)\n",
    "    \n",
    "print(\"При переменном ускорении через минуту мы будем в {0:.2f} метрах от въезда на скорости {1:.2f} км/ч\"\n",
    "      .format(y_c.item(0), y_c.item(1) * 3.6))"
   ]
  },
  {
   "cell_type": "code",
   "execution_count": 4,
   "metadata": {},
   "outputs": [
    {
     "name": "stdout",
     "output_type": "stream",
     "text": [
      "s = 0.00, v = 17.00, a = 0.10\n",
      "s = 0.00, v = 17.00, a = 0.10\n"
     ]
    }
   ],
   "source": [
    "# посмотрим в прошлое - без управления\n",
    "x = (Evolution.I ** 60) * y\n",
    "print(\"s = {:.2f}, v = {:.2f}, a = {:.2f}\".format(*x.T.A[0,:]))\n",
    "\n",
    "# посмотрим в прошлое - с управлением\n",
    "for i in range(59, -1, -1):\n",
    "    y_c = Evolution.I * (y_c - controlEffect(i))\n",
    "\n",
    "print(\"s = {:.2f}, v = {:.2f}, a = {:.2f}\".format(*y_c.T.A[0,:]))"
   ]
  }
 ],
 "metadata": {
  "kernelspec": {
   "display_name": "Python 3",
   "language": "python",
   "name": "python3"
  },
  "language_info": {
   "codemirror_mode": {
    "name": "ipython",
    "version": 3
   },
   "file_extension": ".py",
   "mimetype": "text/x-python",
   "name": "python",
   "nbconvert_exporter": "python",
   "pygments_lexer": "ipython3",
   "version": "3.6.1"
  }
 },
 "nbformat": 4,
 "nbformat_minor": 2
}
