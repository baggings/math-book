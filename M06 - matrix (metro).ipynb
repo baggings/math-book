{
 "cells": [
  {
   "cell_type": "code",
   "execution_count": 28,
   "metadata": {
    "collapsed": true
   },
   "outputs": [],
   "source": [
    "# зависимости\n",
    "import urllib.request as req, json, numpy as np \n",
    "import itertools\n",
    "# источник\n",
    "meta_url = \"https://metro.yandex.ru/api/get-scheme-metadata?id=1&lang=ru\"\n",
    "stations_url = \"https://metro.yandex.ru/api/get-stations?id=1&lang=ru\"\n",
    "meta = json.loads(json.loads(req.urlopen(meta_url).read())[\"data\"])\n",
    "stat = json.loads(req.urlopen(stations_url).read())"
   ]
  },
  {
   "cell_type": "code",
   "execution_count": 29,
   "metadata": {
    "collapsed": true
   },
   "outputs": [],
   "source": [
    "# приведём станции к виду словаря id-название\n",
    "stations = dict((x[\"id\"], x[\"name\"]) for x in stat[\"data\"])\n",
    "stations_reverse = dict((x[\"name\"], x[\"id\"]) for x in stat[\"data\"])\n",
    "# заведём матрицу смежности\n",
    "metro = np.matrix([list([0] * len(stations)) for i in range(len(stations))])\n",
    "# перегоны и переходы\n",
    "links = meta[\"links\"]\n",
    "transfers = meta[\"transfers\"]"
   ]
  },
  {
   "cell_type": "code",
   "execution_count": 30,
   "metadata": {
    "collapsed": true
   },
   "outputs": [],
   "source": [
    "# заполним матрицу смежности\n",
    "# станции нумеруются от 1, а строки в матрице от 0\n",
    "for id in links:\n",
    "    link = links[id]\n",
    "    start = link['fromStationId'] - 1\n",
    "    end = link['toStationId'] - 1\n",
    "    metro[start,end] = metro[end,start] = 1\n",
    "for id in transfers:\n",
    "    trans = transfers[id]['stationIds']\n",
    "    # все пары неповторящихся элементов\n",
    "    for pair in itertools.combinations(trans, 2):\n",
    "        start = pair[0] - 1\n",
    "        end = pair[1] - 1\n",
    "        metro[start,end] = metro[end,start] = 1"
   ]
  },
  {
   "cell_type": "code",
   "execution_count": 31,
   "metadata": {},
   "outputs": [
    {
     "name": "stdout",
     "output_type": "stream",
     "text": [
      "От Шаболовская до Полянка можно доехать за 5 шагов 1 способом\n"
     ]
    }
   ],
   "source": [
    "tx = np.matrix(metro)\n",
    "_from, _to = \"Шаболовская\", \"Полянка\"\n",
    "_from_id, _to_id = stations_reverse[_from] - 1, stations_reverse[_to] - 1\n",
    "steps = 1\n",
    "while tx[_from_id, _to_id] == 0:\n",
    "    tx = tx * metro\n",
    "    steps += 1\n",
    "print(\"От\", _from, \"до\", _to, \"можно доехать за\", steps, \"шагов\", tx[_from_id, _to_id], \"способом\")"
   ]
  },
  {
   "cell_type": "code",
   "execution_count": 32,
   "metadata": {},
   "outputs": [
    {
     "name": "stdout",
     "output_type": "stream",
     "text": [
      "От Шаболовская до Полянка можно доехать за 5 шагов 1 способом\n"
     ]
    }
   ],
   "source": [
    "def getConnected(state):\n",
    "    pairs = zip(state.T.A[0], range(len(stations)))\n",
    "    filtered = [x[1] for x in pairs if x[0]]\n",
    "    return set([stations[i + 1] for i in filtered])\n",
    "\n",
    "state = np.matrix(([[0] * len(stations)])).T\n",
    "state[_from_id] = 1   # мы на Шаболовской\n",
    "visited = getConnected(state)\n",
    "steps = 0\n",
    "while 'Полянка' not in visited:\n",
    "    state = metro * state\n",
    "    reached = getConnected(state) - visited\n",
    "    visited |= reached\n",
    "    steps += 1\n",
    "\n",
    "print(\"От\", s1, \"до\", s2, \"можно доехать за\", steps, \"шагов\", state.A[id2][0], \"способом\")"
   ]
  },
  {
   "cell_type": "code",
   "execution_count": 33,
   "metadata": {},
   "outputs": [
    {
     "name": "stdout",
     "output_type": "stream",
     "text": [
      "Шаболовская\n",
      "Октябрьская (Калужско-Рижская линия)\n",
      "Октябрьская (Кольцевая линия)\n",
      "Добрынинская\n",
      "Серпуховская\n",
      "Полянка\n"
     ]
    }
   ],
   "source": [
    "init_state = np.matrix(([[0] * len(stations)])).T\n",
    "init_state[_from_id] = 1   # мы на Шаболовской\n",
    "\n",
    "def getС(afterN, toWhere):\n",
    "    n_steps = (metro ** afterN) * init_state\n",
    "    last_step = metro[:,toWhere]\n",
    "    return list(getConnected(n_steps) & getConnected(last_step))\n",
    "\n",
    "m = []\n",
    "dest = _to_id\n",
    "track = [stations[_to_id + 1]]\n",
    "steps = 5\n",
    "while _from not in m:\n",
    "    steps -= 1\n",
    "    m = getС(steps, dest)\n",
    "    track.append(m[0])\n",
    "    dest = stations_reverse[m[0]] - 1   \n",
    "print(*track[::-1], sep='\\n')"
   ]
  }
 ],
 "metadata": {
  "kernelspec": {
   "display_name": "Python 3",
   "language": "python",
   "name": "python3"
  },
  "language_info": {
   "codemirror_mode": {
    "name": "ipython",
    "version": 3
   },
   "file_extension": ".py",
   "mimetype": "text/x-python",
   "name": "python",
   "nbconvert_exporter": "python",
   "pygments_lexer": "ipython3",
   "version": "3.6.1"
  }
 },
 "nbformat": 4,
 "nbformat_minor": 2
}
