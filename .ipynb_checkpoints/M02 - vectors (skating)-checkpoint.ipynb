{
 "cells": [
  {
   "cell_type": "code",
   "execution_count": 1,
   "metadata": {},
   "outputs": [
    {
     "name": "stdout",
     "output_type": "stream",
     "text": [
      "Всего катков 1350\n"
     ]
    }
   ],
   "source": [
    "# зависимости\n",
    "import urllib.request as req, json, numpy as np \n",
    "# источник\n",
    "apikey = open(\"keys/data.mos.ru\").read()  # получите на https://apidata.mos.ru/Account/Login\n",
    "req_template = \"https://apidata.mos.ru/v1/{}/?api_key={}\"\n",
    "\n",
    "# сырые данные об открытых катках в 2017 году в Москве с data.mos.ru\n",
    "raw = req.urlopen(req_template.format(\"datasets/1231/rows\", apikey)).read()\n",
    "with open(\"data/rinks.json\", \"wb\") as f:\n",
    "    f.write(raw)\n",
    "\n",
    "with open(\"data/rinks.json\", \"rb\") as f:\n",
    "    raw = f.read()\n",
    "\n",
    "rinks = [row[\"Cells\"] for row in json.loads(raw)]\n",
    "\n",
    "print(\"Всего катков\", len(rinks))"
   ]
  },
  {
   "cell_type": "code",
   "execution_count": 2,
   "metadata": {},
   "outputs": [
    {
     "name": "stdout",
     "output_type": "stream",
     "text": [
      "Координаты: [37.65556203 55.87795747] [37.68114581 55.73598105] [37.50456998 55.83219881] ...\n",
      "Удобства: ... (1, 0, 1) (0, 0, 1) (0, 0, 1) (1, 0, 1) (1, 0, 1) ...\n"
     ]
    }
   ],
   "source": [
    "# в пространстве широта-долгота\n",
    "latlon =  np.array([r[\"geoData\"][\"coordinates\"] for r in rinks])\n",
    "print(\"Координаты:\", *latlon[:3], \"...\")\n",
    "# в пространстве wifi-туалет-бесплатно\n",
    "convenience = [\n",
    "        (\n",
    "            int(r[\"HasWifi\"] != 'нет'), \n",
    "            int(r[\"HasToilet\"] != 'нет'), \n",
    "            int(r[\"Paid\"] == 'бесплатно')\n",
    "        ) \n",
    "        for r in rinks]\n",
    "print(\"Удобства:\", \"...\", *convenience[145:150], \"...\")"
   ]
  },
  {
   "cell_type": "code",
   "execution_count": 3,
   "metadata": {},
   "outputs": [],
   "source": [
    "# выбираем топ значений, наиболее близких к эталону по метрике Евклидова расстояния\n",
    "def topN(expected, data, N):\n",
    "    norms = list(map(lambda row, number: (np.linalg.norm(row - expected), number), \n",
    "            data, range(len(data)) ))      # пары (расстояние, индекс)\n",
    "    norms.sort(key=lambda r: r[0])         # рейтинг\n",
    "    # множество индексов\n",
    "    return set(map(lambda r: r[1], norms[:N]))"
   ]
  },
  {
   "cell_type": "code",
   "execution_count": 4,
   "metadata": {},
   "outputs": [
    {
     "name": "stdout",
     "output_type": "stream",
     "text": [
      "Мы рассматриваем 30 ближайших и удобных катков. Самое интересное:\n",
      "Старая Басманная улица, дом 15, строение 1\n",
      "\tWifi: да, WC: да, Цена: бесплатно\n"
     ]
    }
   ],
   "source": [
    "me_geo = np.array([37.676289, 55.772266])  # широта, долгота\n",
    "me_conv = np.array([1.0, 1.0, 1.0])        # хочу всё: wifi, туалет и чтобы бесплатно!\n",
    "\n",
    "depth = 1\n",
    "A, B = set(), set()\n",
    "# пока в пересечении ничего нет - расширяем поиск\n",
    "while not A & B: \n",
    "    A = topN(me_geo, latlon, depth)\n",
    "    B = topN(me_conv, convenience, depth)\n",
    "    depth += 1\n",
    "    \n",
    "print(\"Мы рассматриваем\", depth, \"ближайших и удобных катков. Самое интересное:\")\n",
    "for rink in A & B:\n",
    "    row = rinks[rink]\n",
    "    print(row[\"Address\"])\n",
    "    print(\"\\tWifi: {}, WC: {}, Цена: {}\".format(row[\"HasWifi\"], row[\"HasToilet\"], row[\"Paid\"]))"
   ]
  },
  {
   "cell_type": "code",
   "execution_count": 6,
   "metadata": {},
   "outputs": [
    {
     "data": {
      "image/png": "[encoded data removed]",
      "text/plain": [
       "<Figure size 720x504 with 1 Axes>"
      ]
     },
     "metadata": {},
     "output_type": "display_data"
    }
   ],
   "source": [
    "import matplotlib.pyplot as plt\n",
    "plt.rcParams.update({'font.size': 20})\n",
    "\n",
    "closest = np.array([latlon[i] for i in A])\n",
    "result = np.array([latlon[i] for i in A & B])\n",
    "plt.figure(figsize=(10,7))\n",
    "plt.plot(closest[:,0], closest[:,1], 'o', markersize=7, color='gray')\n",
    "plt.plot(result[:,0], result[:,1], 'v', markersize=10, color='black')\n",
    "plt.plot(*me_geo, '*', markersize=15, color='black')\n",
    "plt.annotate(\"дом\", xy=me_geo, xytext=(-15, -20), textcoords='offset points')\n",
    "plt.annotate(\"каток!\", xy=result[0], xytext=(-20, 10), textcoords='offset points')\n",
    "plt.grid(True)\n",
    "plt.xlabel('долгота')\n",
    "plt.ylabel('широта')\n",
    "plt.show()"
   ]
  }
 ],
 "metadata": {
  "kernelspec": {
   "display_name": "Python 3",
   "language": "python",
   "name": "python3"
  },
  "language_info": {
   "codemirror_mode": {
    "name": "ipython",
    "version": 3
   },
   "file_extension": ".py",
   "mimetype": "text/x-python",
   "name": "python",
   "nbconvert_exporter": "python",
   "pygments_lexer": "ipython3",
   "version": "3.6.5"
  }
 },
 "nbformat": 4,
 "nbformat_minor": 2
}
