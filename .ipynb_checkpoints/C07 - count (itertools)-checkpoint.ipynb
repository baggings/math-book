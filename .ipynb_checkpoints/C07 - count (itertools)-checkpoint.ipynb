{
 "cells": [
  {
   "cell_type": "code",
   "execution_count": 2,
   "metadata": {},
   "outputs": [],
   "source": [
    "import itertools as it\n",
    "from math import factorial as Г"
   ]
  },
  {
   "cell_type": "code",
   "execution_count": 3,
   "metadata": {},
   "outputs": [
    {
     "name": "stdout",
     "output_type": "stream",
     "text": [
      "A×B×C = ('A', '1', '♥') ('B', '1', '♠') ('B', '2', '♥') ('B', '2', '♠') ('A', '2', '♠') ('A', '2', '♥') ('B', '1', '♥') ('A', '1', '♠')\n",
      "|A|×|B|×|C| = 8\n",
      "    |A×B×C| = 8\n",
      "\n",
      " A2^4  = ... ('A', '♠', '1', '1') ('A', '♠', '1', '♥') ('A', '♠', '♥', 'A') ('A', '♠', '♥', '2') ...\n",
      "|A2^4| = 1296\n",
      "|A2|^4 = 1296\n"
     ]
    }
   ],
   "source": [
    "A = set(['A', 'B'])\n",
    "B = set(['1', '2'])\n",
    "C = set(['♠', '♥'])\n",
    "\n",
    "# декартово произведение множеств - все упорядоченные кортежи -\n",
    "# в Python можно построить с помощью itertools.product\n",
    "D = set(it.product(A, B, C))\n",
    "print('A×B×C =', *D)\n",
    "print('|A|×|B|×|C| =', len(A) * len(B) * len(C))\n",
    "print('    |A×B×C| =', len(D))\n",
    "print()\n",
    "\n",
    "A2 = A | B | C\n",
    "# размещения с повторениями - все комбинации указанной длины, возможно, с повторениями\n",
    "# в Python также можно построить с помощью itertools.product\n",
    "# все размещения с повторениями длины 4 на алфавите A2\n",
    "E = list(it.product(A2, repeat=4))\n",
    "print(\" A2^4  =\", \"...\", *E[100:104], \"...\")\n",
    "print('|A2^4| =', len(E))\n",
    "print('|A2|^4 =', len(A2) ** 4)"
   ]
  },
  {
   "cell_type": "code",
   "execution_count": 4,
   "metadata": {},
   "outputs": [
    {
     "name": "stdout",
     "output_type": "stream",
     "text": [
      "F = ('A', '2', '♠') ('A', '2', 'B') ('A', '2', '1') ('A', '2', '♥') ('A', '♠', 'B') ('A', '♠', '1') ('A', '♠', '♥') ('A', 'B', '1') ('A', 'B', '♥') ('A', '1', '♥') ('2', '♠', 'B') ('2', '♠', '1') ('2', '♠', '♥') ('2', 'B', '1') ('2', 'B', '♥') ('2', '1', '♥') ('♠', 'B', '1') ('♠', 'B', '♥') ('♠', '1', '♥') ('B', '1', '♥') ...\n",
      "|F| = 20\n",
      "C(6,3) = 20\n"
     ]
    }
   ],
   "source": [
    "# сочетания - все подмножества без повторений заданного размера\n",
    "# в Python можно построить с помощью itertools.combinations\n",
    "n = len(A2)\n",
    "k = 3\n",
    "F = list(it.combinations(A2, k))\n",
    "print(\"F =\", *F[:50], \"...\")\n",
    "print(\"|F| =\", len(F))\n",
    "Cnk = Г(n) // (Г(k) * Г(n - k))\n",
    "print(\"C({},{}) =\".format(n, k), Cnk)"
   ]
  },
  {
   "cell_type": "code",
   "execution_count": 6,
   "metadata": {},
   "outputs": [
    {
     "name": "stdout",
     "output_type": "stream",
     "text": [
      "Permuatations(A2) = ('A', '2', '♠', 'B', '1', '♥') ('A', '2', '♠', 'B', '♥', '1') ('A', '2', '♠', '1', 'B', '♥') ('A', '2', '♠', '1', '♥', 'B') ('A', '2', '♠', '♥', 'B', '1') ('A', '2', '♠', '♥', '1', 'B') ('A', '2', 'B', '♠', '1', '♥') ('A', '2', 'B', '♠', '♥', '1') ('A', '2', 'B', '1', '♠', '♥') ('A', '2', 'B', '1', '♥', '♠') ('A', '2', 'B', '♥', '♠', '1') ('A', '2', 'B', '♥', '1', '♠') ('A', '2', '1', '♠', 'B', '♥') ('A', '2', '1', '♠', '♥', 'B') ('A', '2', '1', 'B', '♠', '♥') ('A', '2', '1', 'B', '♥', '♠') ('A', '2', '1', '♥', '♠', 'B') ('A', '2', '1', '♥', 'B', '♠') ('A', '2', '♥', '♠', 'B', '1') ('A', '2', '♥', '♠', '1', 'B') ...\n",
      "|Permutations(A2)| = 720\n",
      "   P(|A2|) = |A2|! = 720\n"
     ]
    }
   ],
   "source": [
    "# сгенерировать все перестановки в Python можно с помощью функции itertools.permutations\n",
    "P = list(it.permutations(A2))\n",
    "print(\"Permuatations(A2) =\", *P[:20], \"...\")\n",
    "print(\"|Permutations(A2)| =\", len(P))\n",
    "print(\"   P(|A2|) = |A2|! =\", Г(len(A2)))"
   ]
  }
 ],
 "metadata": {
  "kernelspec": {
   "display_name": "Python 3",
   "language": "python",
   "name": "python3"
  },
  "language_info": {
   "codemirror_mode": {
    "name": "ipython",
    "version": 3
   },
   "file_extension": ".py",
   "mimetype": "text/x-python",
   "name": "python",
   "nbconvert_exporter": "python",
   "pygments_lexer": "ipython3",
   "version": "3.6.5"
  }
 },
 "nbformat": 4,
 "nbformat_minor": 2
}
