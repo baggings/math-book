{
 "cells": [
  {
   "cell_type": "code",
   "execution_count": 3,
   "metadata": {},
   "outputs": [],
   "source": [
    "import matplotlib.pyplot as plt\n",
    "plt.rcParams.update({'font.size': 20})"
   ]
  },
  {
   "cell_type": "code",
   "execution_count": 4,
   "metadata": {},
   "outputs": [
    {
     "data": {
      "image/png": "[encoded data removed]",
      "text/plain": [
       "<Figure size 432x288 with 1 Axes>"
      ]
     },
     "metadata": {},
     "output_type": "display_data"
    },
    {
     "name": "stdout",
     "output_type": "stream",
     "text": [
      "Первый начальный момент: 121.500\n",
      "Он же математическое ожидание: 121.500\n",
      "Через параметры распределения: 121.500\n"
     ]
    }
   ],
   "source": [
    "from scipy.stats import expon\n",
    "\n",
    "λ = 0.4\n",
    "loc = 119.0\n",
    "# восстановим экспоненциальное распределение, полученное по данным\n",
    "ξ = expon(scale=1./λ, loc=loc)\n",
    "\n",
    "# построим график случайной величины\n",
    "plt.plot([ξ.pdf(i) for i in range(0, 151)], color='black')\n",
    "plt.show()\n",
    "\n",
    "# первый начальный момент - это оценка среднего значения случайно величины\n",
    "# для несмещённого экспоненциального распределения он рассчитывается как 1/λ\n",
    "# в нашем же примере нужно добавить смещение\n",
    "print(\"Первый начальный момент: {:.3f}\".format(ξ.moment(1)))\n",
    "print(\"Он же математическое ожидание: {:.3f}\".format(ξ.mean()))\n",
    "print(\"Через параметры распределения: {:.3f}\".format(1./λ + loc))"
   ]
  },
  {
   "cell_type": "code",
   "execution_count": 5,
   "metadata": {},
   "outputs": [
    {
     "name": "stdout",
     "output_type": "stream",
     "text": [
      "Вероятность ответа меньше чем за 125 мс: 90.928%\n",
      "Максимальное время ответа для 95% пользователей: 126.489 мс\n"
     ]
    }
   ],
   "source": [
    "prob125minus = ξ.cdf(125)\n",
    "max095time = ξ.ppf(0.95)\n",
    "print(\"Вероятность ответа меньше чем за 125 мс: {:.3f}%\".format(prob125minus * 100))\n",
    "print(\"Максимальное время ответа для 95% пользователей: {:.3f} мс\".format(max095time))"
   ]
  },
  {
   "cell_type": "code",
   "execution_count": 6,
   "metadata": {},
   "outputs": [
    {
     "data": {
      "image/png": "[encoded data removed]",
      "text/plain": [
       "<Figure size 432x288 with 1 Axes>"
      ]
     },
     "metadata": {},
     "output_type": "display_data"
    }
   ],
   "source": [
    "with open('data/times.log', 'r') as f:\n",
    "    # убираем сервисные строчки, приводим к числу и берём первые 100\n",
    "    data = [float(v) for v in f.readlines()[1:-4]][:100]\n",
    "\n",
    "bin_count = 6\n",
    "h = plt.hist(data, bin_count, color='black')\n",
    "plt.axis([0, 150, 0, 60])\n",
    "plt.show()"
   ]
  },
  {
   "cell_type": "code",
   "execution_count": 7,
   "metadata": {},
   "outputs": [
    {
     "name": "stdout",
     "output_type": "stream",
     "text": [
      "Среднее выборочное = 121.21 мс\n",
      "Статистика 'доля ниже 125': 92.00%\n",
      "0.95-квантиль (95-процентиль): 126.00 мс\n"
     ]
    }
   ],
   "source": [
    "mean = sum(data) / len(data)\n",
    "print(\"Среднее выборочное = {:.2f} мс\".format(mean))\n",
    "\n",
    "prob125 = len(list(filter(lambda x: x < 125, data))) / len(data) \n",
    "perc95 = sorted(data)[int(0.95 * len(data))]\n",
    "\n",
    "print(\"Статистика 'доля ниже 125': {:.2f}%\".format(prob125 * 100))\n",
    "print(\"0.95-квантиль (95-процентиль): {:.2f} мс\".format(perc95))"
   ]
  }
 ],
 "metadata": {
  "kernelspec": {
   "display_name": "Python 3",
   "language": "python",
   "name": "python3"
  },
  "language_info": {
   "codemirror_mode": {
    "name": "ipython",
    "version": 3
   },
   "file_extension": ".py",
   "mimetype": "text/x-python",
   "name": "python",
   "nbconvert_exporter": "python",
   "pygments_lexer": "ipython3",
   "version": "3.6.5"
  }
 },
 "nbformat": 4,
 "nbformat_minor": 2
}
